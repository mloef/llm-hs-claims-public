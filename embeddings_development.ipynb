{
  "cells": [
    {
      "cell_type": "code",
      "execution_count": null,
      "metadata": {},
      "outputs": [],
      "source": [
        "API_KEY = \"YOUR_API_KEY\""
      ]
    },
    {
      "cell_type": "code",
      "execution_count": null,
      "metadata": {},
      "outputs": [],
      "source": [
        "with open('4CDFIND01012020.txt', 'r') as fd:\n",
        "    text = fd.read().replace('\\n', ' ')"
      ]
    },
    {
      "cell_type": "code",
      "execution_count": null,
      "metadata": {},
      "outputs": [],
      "source": [
        "!pip install pysbd"
      ]
    },
    {
      "cell_type": "code",
      "execution_count": null,
      "metadata": {},
      "outputs": [],
      "source": [
        "from tika import parser\n",
        "\n",
        "# Parse the PDF file and extract the text content\n",
        "parsed_pdf = parser.from_file('4CDFIND01012020.pdf')\n",
        "text = parsed_pdf['content']"
      ]
    },
    {
      "cell_type": "code",
      "execution_count": null,
      "metadata": {},
      "outputs": [],
      "source": [
        "with open('tike-output.txt', 'w') as f:\n",
        "    f.write(text)"
      ]
    },
    {
      "cell_type": "code",
      "execution_count": null,
      "metadata": {},
      "outputs": [],
      "source": [
        "import chromadb\n",
        "from chromadb.utils import embedding_functions\n",
        "from chromadb.config import Settings\n",
        "\n",
        "client = chromadb.Client(Settings(chroma_db_impl=\"duckdb+parquet\",\n",
        "                                    persist_directory=\"chroma\",))\n",
        "\n",
        "collection = client.create_collection(\"llm-hs-claims\", embedding_function=embedding_functions.OpenAIEmbeddingFunction(\n",
        "                    api_key=API_KEY,\n",
        "                model_name=\"text-embedding-ada-002\"\n",
        "))"
      ]
    },
    {
      "cell_type": "code",
      "execution_count": null,
      "metadata": {
        "id": "64dWyeEdKAX9"
      },
      "outputs": [],
      "source": [
        "from pysbd import Segmenter\n",
        "import pprint\n",
        "\n",
        "segmenter = Segmenter(language=\"en\", clean=True)  # create a sentence segmenter for English\n",
        "#text = \"This is a sample text. It contains a few sentences. And it demonstrates the use of PySBD.\"\n",
        "sentences = segmenter.segment(text)  # get a list of sentences"
      ]
    },
    {
      "cell_type": "code",
      "execution_count": null,
      "metadata": {},
      "outputs": [],
      "source": [
        "chunk_size = 1000\n",
        "\n",
        "\n",
        "for i in range(0, len(sentences), chunk_size):\n",
        "    chunk = sentences[i:i+chunk_size]\n",
        "    collection.add(\n",
        "        documents = chunk,\n",
        "        ids = [str(i) for i in range(i, i+len(chunk))],\n",
        "        metadatas = [{\"userID\": \"0\", 'index' : str(i)} for i in range(len(chunk))]\n",
        "    )"
      ]
    },
    {
      "cell_type": "code",
      "execution_count": null,
      "metadata": {},
      "outputs": [],
      "source": [
        "TOP_K = 2\n",
        "\n",
        "CONTEXT_WINDOW = 30\n",
        "\n",
        "\n",
        "query_result = collection.query(\n",
        "        query_texts=[\"mammogram\"],\n",
        "        n_results=TOP_K,\n",
        "        where={\"userID\": \"0\"},\n",
        "    )\n",
        "\n",
        "#pprint.pprint(query_result)\n",
        "\n",
        "for id in query_result['ids'][0]:\n",
        "    index = int(id)\n",
        "    pprint.pprint(' '.join(sentences[i] for i in range(index-CONTEXT_WINDOW//2, index+CONTEXT_WINDOW//2)))\n",
        "    print()"
      ]
    },
    {
      "cell_type": "code",
      "execution_count": null,
      "metadata": {},
      "outputs": [],
      "source": []
    }
  ],
  "metadata": {
    "colab": {
      "provenance": []
    },
    "kernelspec": {
      "display_name": "Python 3",
      "name": "python3"
    },
    "language_info": {
      "codemirror_mode": {
        "name": "ipython",
        "version": 3
      },
      "file_extension": ".py",
      "mimetype": "text/x-python",
      "name": "python",
      "nbconvert_exporter": "python",
      "pygments_lexer": "ipython3",
      "version": "3.9.6"
    }
  },
  "nbformat": 4,
  "nbformat_minor": 0
}
