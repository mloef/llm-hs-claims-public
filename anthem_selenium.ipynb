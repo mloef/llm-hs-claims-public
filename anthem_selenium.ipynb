{
 "cells": [
  {
   "cell_type": "code",
   "execution_count": null,
   "metadata": {},
   "outputs": [],
   "source": [
    "!pip install selenium"
   ]
  },
  {
   "cell_type": "code",
   "execution_count": null,
   "metadata": {},
   "outputs": [],
   "source": [
    "from selenium import webdriver\n",
    "\n",
    "driver = webdriver.Chrome()"
   ]
  },
  {
   "cell_type": "code",
   "execution_count": null,
   "metadata": {},
   "outputs": [],
   "source": [
    "driver.get(\"https://www.anthem.com\")"
   ]
  },
  {
   "cell_type": "code",
   "execution_count": null,
   "metadata": {},
   "outputs": [],
   "source": [
    "from selenium.webdriver.common.by import By\n",
    "driver.find_element(By.LINK_TEXT, \"Log In\").click()\n",
    "driver.find_element(By.LINK_TEXT, \"Log In\").click()"
   ]
  },
  {
   "cell_type": "code",
   "execution_count": null,
   "metadata": {},
   "outputs": [],
   "source": [
    "import json\n",
    "\n",
    "# import credentials\n",
    "with open(\"credentials.json\", \"r\") as file:\n",
    "    data = json.load(file)\n",
    "\n",
    "email = data[\"username\"]\n",
    "password = data[\"password\"]"
   ]
  },
  {
   "cell_type": "code",
   "execution_count": null,
   "metadata": {},
   "outputs": [],
   "source": [
    "email_field = driver.find_element(By.ID, \"txtUsername\")\n",
    "email_field.send_keys(email)\n",
    "\n",
    "password_field = driver.find_element(By.ID, \"txtPassword\")\n",
    "password_field.send_keys(password)\n",
    "\n",
    "driver.find_element(By.ID, \"btnLogin\").click()"
   ]
  },
  {
   "cell_type": "code",
   "execution_count": null,
   "metadata": {},
   "outputs": [],
   "source": [
    "radio_button = driver.find_element(By.ID, \"lbl_rbtnText0\")\n",
    "radio_button.click()\n",
    "\n",
    "driver.find_element(By.ID, \"2fa_step1send\").click()"
   ]
  },
  {
   "cell_type": "code",
   "execution_count": null,
   "metadata": {},
   "outputs": [],
   "source": [
    "driver.get(\"https://membersecure.anthem.com/member/message-center/new-message?category=56\")"
   ]
  },
  {
   "cell_type": "code",
   "execution_count": null,
   "metadata": {},
   "outputs": [],
   "source": [
    "from selenium.webdriver.support.ui import Select\n",
    "\n",
    "message_type = driver.find_element(By.ID, \"ddlNewMsgCat_button\")\n",
    "message_type.click()\n",
    "\n",
    "# Element 104 is \"Greviances / Appeals\"\n",
    "desired_item = driver.find_element(By.CSS_SELECTOR, \"[data-value='104']\")\n",
    "desired_item.click()"
   ]
  },
  {
   "cell_type": "code",
   "execution_count": null,
   "metadata": {},
   "outputs": [],
   "source": [
    "message_subtype = driver.find_element(By.ID, \"ddlNewMsgCatSub_button\")\n",
    "message_subtype.click()\n",
    "\n",
    "desired_subitem = driver.find_element(By.CSS_SELECTOR, \"[data-value='487']\")\n",
    "desired_subitem.click()"
   ]
  },
  {
   "cell_type": "code",
   "execution_count": null,
   "metadata": {},
   "outputs": [],
   "source": [
    "title = driver.find_element(By.ID, \"txtNewMsgTitleText\")\n",
    "title.send_keys(\"Test Message\")"
   ]
  },
  {
   "cell_type": "code",
   "execution_count": null,
   "metadata": {},
   "outputs": [],
   "source": [
    "greviance_radio_field = driver.find_element(By.ID, \"lbl_rbtnAppealType-appealGreivance-1\")\n",
    "greviance_radio_field.click()\n",
    "        \n"
   ]
  }
 ],
 "metadata": {
  "kernelspec": {
   "display_name": ".venv",
   "language": "python",
   "name": "python3"
  },
  "language_info": {
   "codemirror_mode": {
    "name": "ipython",
    "version": 3
   },
   "file_extension": ".py",
   "mimetype": "text/x-python",
   "name": "python",
   "nbconvert_exporter": "python",
   "pygments_lexer": "ipython3",
   "version": "3.9.6"
  },
  "orig_nbformat": 4
 },
 "nbformat": 4,
 "nbformat_minor": 2
}
